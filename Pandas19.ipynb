{
 "cells": [
  {
   "cell_type": "code",
   "execution_count": 1,
   "id": "4d55309e",
   "metadata": {},
   "outputs": [
    {
     "name": "stdout",
     "output_type": "stream",
     "text": [
      "1.3.4\n",
      "1.20.3\n"
     ]
    }
   ],
   "source": [
    "import pandas as pd\n",
    "import numpy as np\n",
    "\n",
    "print(pd.__version__)\n",
    "print(np.__version__)"
   ]
  },
  {
   "cell_type": "code",
   "execution_count": 2,
   "id": "363f8a3b",
   "metadata": {},
   "outputs": [
    {
     "data": {
      "text/html": [
       "<div>\n",
       "<style scoped>\n",
       "    .dataframe tbody tr th:only-of-type {\n",
       "        vertical-align: middle;\n",
       "    }\n",
       "\n",
       "    .dataframe tbody tr th {\n",
       "        vertical-align: top;\n",
       "    }\n",
       "\n",
       "    .dataframe thead th {\n",
       "        text-align: right;\n",
       "    }\n",
       "</style>\n",
       "<table border=\"1\" class=\"dataframe\">\n",
       "  <thead>\n",
       "    <tr style=\"text-align: right;\">\n",
       "      <th></th>\n",
       "      <th>omset</th>\n",
       "      <th>operasional</th>\n",
       "    </tr>\n",
       "  </thead>\n",
       "  <tbody>\n",
       "    <tr>\n",
       "      <th>0</th>\n",
       "      <td>12</td>\n",
       "      <td>4</td>\n",
       "    </tr>\n",
       "    <tr>\n",
       "      <th>1</th>\n",
       "      <td>11</td>\n",
       "      <td>12</td>\n",
       "    </tr>\n",
       "    <tr>\n",
       "      <th>2</th>\n",
       "      <td>12</td>\n",
       "      <td>8</td>\n",
       "    </tr>\n",
       "    <tr>\n",
       "      <th>3</th>\n",
       "      <td>14</td>\n",
       "      <td>2</td>\n",
       "    </tr>\n",
       "    <tr>\n",
       "      <th>4</th>\n",
       "      <td>13</td>\n",
       "      <td>8</td>\n",
       "    </tr>\n",
       "  </tbody>\n",
       "</table>\n",
       "</div>"
      ],
      "text/plain": [
       "   omset  operasional\n",
       "0     12            4\n",
       "1     11           12\n",
       "2     12            8\n",
       "3     14            2\n",
       "4     13            8"
      ]
     },
     "execution_count": 2,
     "metadata": {},
     "output_type": "execute_result"
    }
   ],
   "source": [
    "n_rows = 5 \n",
    "n_cols = 2\n",
    "cols = ['omset', 'operasional']\n",
    "\n",
    "df = pd.DataFrame(np.random.randint(1, 20, size = (n_rows, n_cols)),\n",
    "                  columns = cols)\n",
    "\n",
    "df\n"
   ]
  },
  {
   "cell_type": "code",
   "execution_count": 3,
   "id": "ae12d0a9",
   "metadata": {},
   "outputs": [
    {
     "data": {
      "text/html": [
       "<div>\n",
       "<style scoped>\n",
       "    .dataframe tbody tr th:only-of-type {\n",
       "        vertical-align: middle;\n",
       "    }\n",
       "\n",
       "    .dataframe tbody tr th {\n",
       "        vertical-align: top;\n",
       "    }\n",
       "\n",
       "    .dataframe thead th {\n",
       "        text-align: right;\n",
       "    }\n",
       "</style>\n",
       "<table border=\"1\" class=\"dataframe\">\n",
       "  <thead>\n",
       "    <tr style=\"text-align: right;\">\n",
       "      <th></th>\n",
       "      <th>omset</th>\n",
       "      <th>operasional</th>\n",
       "    </tr>\n",
       "  </thead>\n",
       "  <tbody>\n",
       "    <tr>\n",
       "      <th>0</th>\n",
       "      <td>120000</td>\n",
       "      <td>40000</td>\n",
       "    </tr>\n",
       "    <tr>\n",
       "      <th>1</th>\n",
       "      <td>110000</td>\n",
       "      <td>120000</td>\n",
       "    </tr>\n",
       "    <tr>\n",
       "      <th>2</th>\n",
       "      <td>120000</td>\n",
       "      <td>80000</td>\n",
       "    </tr>\n",
       "    <tr>\n",
       "      <th>3</th>\n",
       "      <td>140000</td>\n",
       "      <td>20000</td>\n",
       "    </tr>\n",
       "    <tr>\n",
       "      <th>4</th>\n",
       "      <td>130000</td>\n",
       "      <td>80000</td>\n",
       "    </tr>\n",
       "  </tbody>\n",
       "</table>\n",
       "</div>"
      ],
      "text/plain": [
       "    omset  operasional\n",
       "0  120000        40000\n",
       "1  110000       120000\n",
       "2  120000        80000\n",
       "3  140000        20000\n",
       "4  130000        80000"
      ]
     },
     "execution_count": 3,
     "metadata": {},
     "output_type": "execute_result"
    }
   ],
   "source": [
    "df['omset'] = df['omset'] * 100_00\n",
    "df['operasional'] = df['operasional'] * 10_000\n",
    "df"
   ]
  },
  {
   "cell_type": "code",
   "execution_count": 4,
   "id": "9872111f",
   "metadata": {},
   "outputs": [
    {
     "name": "stderr",
     "output_type": "stream",
     "text": [
      "C:\\Users\\User\\anaconda3\\lib\\site-packages\\pandas\\util\\__init__.py:15: FutureWarning: pandas.util.testing is deprecated. Use the functions in the public API at pandas.testing instead.\n",
      "  import pandas.util.testing\n"
     ]
    },
    {
     "data": {
      "text/html": [
       "<div>\n",
       "<style scoped>\n",
       "    .dataframe tbody tr th:only-of-type {\n",
       "        vertical-align: middle;\n",
       "    }\n",
       "\n",
       "    .dataframe tbody tr th {\n",
       "        vertical-align: top;\n",
       "    }\n",
       "\n",
       "    .dataframe thead th {\n",
       "        text-align: right;\n",
       "    }\n",
       "</style>\n",
       "<table border=\"1\" class=\"dataframe\">\n",
       "  <thead>\n",
       "    <tr style=\"text-align: right;\">\n",
       "      <th></th>\n",
       "      <th>tanggal</th>\n",
       "      <th>omset</th>\n",
       "      <th>operasional</th>\n",
       "    </tr>\n",
       "  </thead>\n",
       "  <tbody>\n",
       "    <tr>\n",
       "      <th>0</th>\n",
       "      <td>2000-01-01</td>\n",
       "      <td>120000</td>\n",
       "      <td>40000</td>\n",
       "    </tr>\n",
       "    <tr>\n",
       "      <th>1</th>\n",
       "      <td>2000-01-02</td>\n",
       "      <td>110000</td>\n",
       "      <td>120000</td>\n",
       "    </tr>\n",
       "    <tr>\n",
       "      <th>2</th>\n",
       "      <td>2000-01-03</td>\n",
       "      <td>120000</td>\n",
       "      <td>80000</td>\n",
       "    </tr>\n",
       "    <tr>\n",
       "      <th>3</th>\n",
       "      <td>2000-01-04</td>\n",
       "      <td>140000</td>\n",
       "      <td>20000</td>\n",
       "    </tr>\n",
       "    <tr>\n",
       "      <th>4</th>\n",
       "      <td>2000-01-05</td>\n",
       "      <td>130000</td>\n",
       "      <td>80000</td>\n",
       "    </tr>\n",
       "  </tbody>\n",
       "</table>\n",
       "</div>"
      ],
      "text/plain": [
       "     tanggal   omset  operasional\n",
       "0 2000-01-01  120000        40000\n",
       "1 2000-01-02  110000       120000\n",
       "2 2000-01-03  120000        80000\n",
       "3 2000-01-04  140000        20000\n",
       "4 2000-01-05  130000        80000"
      ]
     },
     "execution_count": 4,
     "metadata": {},
     "output_type": "execute_result"
    }
   ],
   "source": [
    "df.index = pd.util.testing.makeDateIndex(n_rows, freq = 'D')\n",
    "df = df.reset_index()\n",
    "df = df.rename(columns = {'index':'tanggal'})\n",
    "df"
   ]
  },
  {
   "cell_type": "code",
   "execution_count": 15,
   "id": "ea71937f",
   "metadata": {},
   "outputs": [
    {
     "data": {
      "text/html": [
       "<style type=\"text/css\">\n",
       "</style>\n",
       "<table id=\"T_12822_\">\n",
       "  <thead>\n",
       "    <tr>\n",
       "      <th class=\"blank level0\" >&nbsp;</th>\n",
       "      <th class=\"col_heading level0 col0\" >tanggal</th>\n",
       "      <th class=\"col_heading level0 col1\" >omset</th>\n",
       "      <th class=\"col_heading level0 col2\" >operasional</th>\n",
       "    </tr>\n",
       "  </thead>\n",
       "  <tbody>\n",
       "    <tr>\n",
       "      <th id=\"T_12822_level0_row0\" class=\"row_heading level0 row0\" >0</th>\n",
       "      <td id=\"T_12822_row0_col0\" class=\"data row0 col0\" >01/01/00</td>\n",
       "      <td id=\"T_12822_row0_col1\" class=\"data row0 col1\" >Rp120000.00</td>\n",
       "      <td id=\"T_12822_row0_col2\" class=\"data row0 col2\" >Rp 40000.00</td>\n",
       "    </tr>\n",
       "    <tr>\n",
       "      <th id=\"T_12822_level0_row1\" class=\"row_heading level0 row1\" >1</th>\n",
       "      <td id=\"T_12822_row1_col0\" class=\"data row1 col0\" >02/01/00</td>\n",
       "      <td id=\"T_12822_row1_col1\" class=\"data row1 col1\" >Rp110000.00</td>\n",
       "      <td id=\"T_12822_row1_col2\" class=\"data row1 col2\" >Rp 120000.00</td>\n",
       "    </tr>\n",
       "    <tr>\n",
       "      <th id=\"T_12822_level0_row2\" class=\"row_heading level0 row2\" >2</th>\n",
       "      <td id=\"T_12822_row2_col0\" class=\"data row2 col0\" >03/01/00</td>\n",
       "      <td id=\"T_12822_row2_col1\" class=\"data row2 col1\" >Rp120000.00</td>\n",
       "      <td id=\"T_12822_row2_col2\" class=\"data row2 col2\" >Rp 80000.00</td>\n",
       "    </tr>\n",
       "    <tr>\n",
       "      <th id=\"T_12822_level0_row3\" class=\"row_heading level0 row3\" >3</th>\n",
       "      <td id=\"T_12822_row3_col0\" class=\"data row3 col0\" >04/01/00</td>\n",
       "      <td id=\"T_12822_row3_col1\" class=\"data row3 col1\" >Rp140000.00</td>\n",
       "      <td id=\"T_12822_row3_col2\" class=\"data row3 col2\" >Rp 20000.00</td>\n",
       "    </tr>\n",
       "    <tr>\n",
       "      <th id=\"T_12822_level0_row4\" class=\"row_heading level0 row4\" >4</th>\n",
       "      <td id=\"T_12822_row4_col0\" class=\"data row4 col0\" >05/01/00</td>\n",
       "      <td id=\"T_12822_row4_col1\" class=\"data row4 col1\" >Rp130000.00</td>\n",
       "      <td id=\"T_12822_row4_col2\" class=\"data row4 col2\" >Rp 80000.00</td>\n",
       "    </tr>\n",
       "  </tbody>\n",
       "</table>\n"
      ],
      "text/plain": [
       "<pandas.io.formats.style.Styler at 0x1d10476ea00>"
      ]
     },
     "execution_count": 15,
     "metadata": {},
     "output_type": "execute_result"
    }
   ],
   "source": [
    "formatku = {'tanggal' : '{:%d/%m/%y}',\n",
    "            'operasional' : 'Rp {:.2f}',\n",
    "            'omset' : 'Rp{:.2f}'}\n",
    "\n",
    "laporan = df.style.format(formatku)\n",
    "laporan"
   ]
  },
  {
   "cell_type": "code",
   "execution_count": 11,
   "id": "1413e667",
   "metadata": {},
   "outputs": [
    {
     "data": {
      "text/plain": [
       "pandas.io.formats.style.Styler"
      ]
     },
     "execution_count": 11,
     "metadata": {},
     "output_type": "execute_result"
    }
   ],
   "source": [
    "type(laporan)"
   ]
  },
  {
   "cell_type": "code",
   "execution_count": 16,
   "id": "1d306aa7",
   "metadata": {},
   "outputs": [
    {
     "data": {
      "text/html": [
       "<style type=\"text/css\">\n",
       "</style>\n",
       "<table id=\"T_12822_\">\n",
       "  <thead>\n",
       "    <tr>\n",
       "      <th class=\"col_heading level0 col0\" >tanggal</th>\n",
       "      <th class=\"col_heading level0 col1\" >omset</th>\n",
       "      <th class=\"col_heading level0 col2\" >operasional</th>\n",
       "    </tr>\n",
       "  </thead>\n",
       "  <tbody>\n",
       "    <tr>\n",
       "      <td id=\"T_12822_row0_col0\" class=\"data row0 col0\" >01/01/00</td>\n",
       "      <td id=\"T_12822_row0_col1\" class=\"data row0 col1\" >Rp120000.00</td>\n",
       "      <td id=\"T_12822_row0_col2\" class=\"data row0 col2\" >Rp 40000.00</td>\n",
       "    </tr>\n",
       "    <tr>\n",
       "      <td id=\"T_12822_row1_col0\" class=\"data row1 col0\" >02/01/00</td>\n",
       "      <td id=\"T_12822_row1_col1\" class=\"data row1 col1\" >Rp110000.00</td>\n",
       "      <td id=\"T_12822_row1_col2\" class=\"data row1 col2\" >Rp 120000.00</td>\n",
       "    </tr>\n",
       "    <tr>\n",
       "      <td id=\"T_12822_row2_col0\" class=\"data row2 col0\" >03/01/00</td>\n",
       "      <td id=\"T_12822_row2_col1\" class=\"data row2 col1\" >Rp120000.00</td>\n",
       "      <td id=\"T_12822_row2_col2\" class=\"data row2 col2\" >Rp 80000.00</td>\n",
       "    </tr>\n",
       "    <tr>\n",
       "      <td id=\"T_12822_row3_col0\" class=\"data row3 col0\" >04/01/00</td>\n",
       "      <td id=\"T_12822_row3_col1\" class=\"data row3 col1\" >Rp140000.00</td>\n",
       "      <td id=\"T_12822_row3_col2\" class=\"data row3 col2\" >Rp 20000.00</td>\n",
       "    </tr>\n",
       "    <tr>\n",
       "      <td id=\"T_12822_row4_col0\" class=\"data row4 col0\" >05/01/00</td>\n",
       "      <td id=\"T_12822_row4_col1\" class=\"data row4 col1\" >Rp130000.00</td>\n",
       "      <td id=\"T_12822_row4_col2\" class=\"data row4 col2\" >Rp 80000.00</td>\n",
       "    </tr>\n",
       "  </tbody>\n",
       "</table>\n"
      ],
      "text/plain": [
       "<pandas.io.formats.style.Styler at 0x1d10476ea00>"
      ]
     },
     "execution_count": 16,
     "metadata": {},
     "output_type": "execute_result"
    }
   ],
   "source": [
    "laporan.hide_index()"
   ]
  },
  {
   "cell_type": "code",
   "execution_count": 17,
   "id": "17a9898f",
   "metadata": {},
   "outputs": [
    {
     "data": {
      "text/html": [
       "<style type=\"text/css\">\n",
       "</style>\n",
       "<table id=\"T_12822_\">\n",
       "  <caption>Data Omset dan Operasional</caption>\n",
       "  <thead>\n",
       "    <tr>\n",
       "      <th class=\"col_heading level0 col0\" >tanggal</th>\n",
       "      <th class=\"col_heading level0 col1\" >omset</th>\n",
       "      <th class=\"col_heading level0 col2\" >operasional</th>\n",
       "    </tr>\n",
       "  </thead>\n",
       "  <tbody>\n",
       "    <tr>\n",
       "      <td id=\"T_12822_row0_col0\" class=\"data row0 col0\" >01/01/00</td>\n",
       "      <td id=\"T_12822_row0_col1\" class=\"data row0 col1\" >Rp120000.00</td>\n",
       "      <td id=\"T_12822_row0_col2\" class=\"data row0 col2\" >Rp 40000.00</td>\n",
       "    </tr>\n",
       "    <tr>\n",
       "      <td id=\"T_12822_row1_col0\" class=\"data row1 col0\" >02/01/00</td>\n",
       "      <td id=\"T_12822_row1_col1\" class=\"data row1 col1\" >Rp110000.00</td>\n",
       "      <td id=\"T_12822_row1_col2\" class=\"data row1 col2\" >Rp 120000.00</td>\n",
       "    </tr>\n",
       "    <tr>\n",
       "      <td id=\"T_12822_row2_col0\" class=\"data row2 col0\" >03/01/00</td>\n",
       "      <td id=\"T_12822_row2_col1\" class=\"data row2 col1\" >Rp120000.00</td>\n",
       "      <td id=\"T_12822_row2_col2\" class=\"data row2 col2\" >Rp 80000.00</td>\n",
       "    </tr>\n",
       "    <tr>\n",
       "      <td id=\"T_12822_row3_col0\" class=\"data row3 col0\" >04/01/00</td>\n",
       "      <td id=\"T_12822_row3_col1\" class=\"data row3 col1\" >Rp140000.00</td>\n",
       "      <td id=\"T_12822_row3_col2\" class=\"data row3 col2\" >Rp 20000.00</td>\n",
       "    </tr>\n",
       "    <tr>\n",
       "      <td id=\"T_12822_row4_col0\" class=\"data row4 col0\" >05/01/00</td>\n",
       "      <td id=\"T_12822_row4_col1\" class=\"data row4 col1\" >Rp130000.00</td>\n",
       "      <td id=\"T_12822_row4_col2\" class=\"data row4 col2\" >Rp 80000.00</td>\n",
       "    </tr>\n",
       "  </tbody>\n",
       "</table>\n"
      ],
      "text/plain": [
       "<pandas.io.formats.style.Styler at 0x1d10476ea00>"
      ]
     },
     "execution_count": 17,
     "metadata": {},
     "output_type": "execute_result"
    }
   ],
   "source": [
    "laporan.set_caption('Data Omset dan Operasional')"
   ]
  },
  {
   "cell_type": "code",
   "execution_count": 14,
   "id": "fe6cc05f",
   "metadata": {},
   "outputs": [
    {
     "data": {
      "text/html": [
       "<style type=\"text/css\">\n",
       "#T_d11d8_row1_col1 {\n",
       "  background-color: pink;\n",
       "  background-color: pink;\n",
       "}\n",
       "#T_d11d8_row1_col2 {\n",
       "  background-color: grey;\n",
       "}\n",
       "#T_d11d8_row3_col1 {\n",
       "  background-color: lightgreen;\n",
       "  background-color: lightgreen;\n",
       "}\n",
       "#T_d11d8_row3_col2 {\n",
       "  background-color: lightblue;\n",
       "}\n",
       "</style>\n",
       "<table id=\"T_d11d8_\">\n",
       "  <caption>Data Omset dan Operasional</caption>\n",
       "  <thead>\n",
       "    <tr>\n",
       "      <th class=\"col_heading level0 col0\" >tanggal</th>\n",
       "      <th class=\"col_heading level0 col1\" >omset</th>\n",
       "      <th class=\"col_heading level0 col2\" >operasional</th>\n",
       "    </tr>\n",
       "  </thead>\n",
       "  <tbody>\n",
       "    <tr>\n",
       "      <td id=\"T_d11d8_row0_col0\" class=\"data row0 col0\" >01/01/00</td>\n",
       "      <td id=\"T_d11d8_row0_col1\" class=\"data row0 col1\" >Rp120000.00</td>\n",
       "      <td id=\"T_d11d8_row0_col2\" class=\"data row0 col2\" >Rp 40000.00</td>\n",
       "    </tr>\n",
       "    <tr>\n",
       "      <td id=\"T_d11d8_row1_col0\" class=\"data row1 col0\" >02/01/00</td>\n",
       "      <td id=\"T_d11d8_row1_col1\" class=\"data row1 col1\" >Rp110000.00</td>\n",
       "      <td id=\"T_d11d8_row1_col2\" class=\"data row1 col2\" >Rp 120000.00</td>\n",
       "    </tr>\n",
       "    <tr>\n",
       "      <td id=\"T_d11d8_row2_col0\" class=\"data row2 col0\" >03/01/00</td>\n",
       "      <td id=\"T_d11d8_row2_col1\" class=\"data row2 col1\" >Rp120000.00</td>\n",
       "      <td id=\"T_d11d8_row2_col2\" class=\"data row2 col2\" >Rp 80000.00</td>\n",
       "    </tr>\n",
       "    <tr>\n",
       "      <td id=\"T_d11d8_row3_col0\" class=\"data row3 col0\" >04/01/00</td>\n",
       "      <td id=\"T_d11d8_row3_col1\" class=\"data row3 col1\" >Rp140000.00</td>\n",
       "      <td id=\"T_d11d8_row3_col2\" class=\"data row3 col2\" >Rp 20000.00</td>\n",
       "    </tr>\n",
       "    <tr>\n",
       "      <td id=\"T_d11d8_row4_col0\" class=\"data row4 col0\" >05/01/00</td>\n",
       "      <td id=\"T_d11d8_row4_col1\" class=\"data row4 col1\" >Rp130000.00</td>\n",
       "      <td id=\"T_d11d8_row4_col2\" class=\"data row4 col2\" >Rp 80000.00</td>\n",
       "    </tr>\n",
       "  </tbody>\n",
       "</table>\n"
      ],
      "text/plain": [
       "<pandas.io.formats.style.Styler at 0x1d1038d30d0>"
      ]
     },
     "execution_count": 14,
     "metadata": {},
     "output_type": "execute_result"
    }
   ],
   "source": [
    "laporan.highlight_min('omset', color = 'pink')\n",
    "laporan.highlight_max('omset', color = 'lightgreen')\n",
    "\n",
    "laporan.highlight_min('operasional', color = 'lightblue')\n",
    "laporan.highlight_max('operasional', color = 'grey')\n",
    "\n",
    "laporan.highlight_min('omset', color = 'pink')\n",
    "laporan.highlight_max('omset', color = 'lightgreen')\n",
    "\n"
   ]
  },
  {
   "cell_type": "code",
   "execution_count": null,
   "id": "4c25d04a",
   "metadata": {},
   "outputs": [],
   "source": []
  }
 ],
 "metadata": {
  "kernelspec": {
   "display_name": "Python 3 (ipykernel)",
   "language": "python",
   "name": "python3"
  },
  "language_info": {
   "codemirror_mode": {
    "name": "ipython",
    "version": 3
   },
   "file_extension": ".py",
   "mimetype": "text/x-python",
   "name": "python",
   "nbconvert_exporter": "python",
   "pygments_lexer": "ipython3",
   "version": "3.9.7"
  }
 },
 "nbformat": 4,
 "nbformat_minor": 5
}
