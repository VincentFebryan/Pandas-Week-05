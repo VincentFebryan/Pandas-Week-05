{
 "cells": [
  {
   "cell_type": "code",
   "execution_count": 1,
   "id": "19f21b7a",
   "metadata": {},
   "outputs": [
    {
     "name": "stdout",
     "output_type": "stream",
     "text": [
      "1.3.4\n",
      "1.20.3\n"
     ]
    }
   ],
   "source": [
    "import pandas as pd\n",
    "import numpy as np\n",
    "\n",
    "print(pd.__version__)\n",
    "print(np.__version__)"
   ]
  },
  {
   "cell_type": "code",
   "execution_count": 2,
   "id": "4cb6d9de",
   "metadata": {},
   "outputs": [
    {
     "data": {
      "text/html": [
       "<div>\n",
       "<style scoped>\n",
       "    .dataframe tbody tr th:only-of-type {\n",
       "        vertical-align: middle;\n",
       "    }\n",
       "\n",
       "    .dataframe tbody tr th {\n",
       "        vertical-align: top;\n",
       "    }\n",
       "\n",
       "    .dataframe thead th {\n",
       "        text-align: right;\n",
       "    }\n",
       "</style>\n",
       "<table border=\"1\" class=\"dataframe\">\n",
       "  <thead>\n",
       "    <tr style=\"text-align: right;\">\n",
       "      <th></th>\n",
       "      <th>col1</th>\n",
       "      <th>col2</th>\n",
       "    </tr>\n",
       "  </thead>\n",
       "  <tbody>\n",
       "    <tr>\n",
       "      <th>0</th>\n",
       "      <td>1</td>\n",
       "      <td>5</td>\n",
       "    </tr>\n",
       "    <tr>\n",
       "      <th>1</th>\n",
       "      <td>2</td>\n",
       "      <td>6</td>\n",
       "    </tr>\n",
       "    <tr>\n",
       "      <th>2</th>\n",
       "      <td>3</td>\n",
       "      <td>7</td>\n",
       "    </tr>\n",
       "    <tr>\n",
       "      <th>3</th>\n",
       "      <td>4</td>\n",
       "      <td>8</td>\n",
       "    </tr>\n",
       "  </tbody>\n",
       "</table>\n",
       "</div>"
      ],
      "text/plain": [
       "   col1  col2\n",
       "0     1     5\n",
       "1     2     6\n",
       "2     3     7\n",
       "3     4     8"
      ]
     },
     "execution_count": 2,
     "metadata": {},
     "output_type": "execute_result"
    }
   ],
   "source": [
    "pd.DataFrame({'col1' : [1, 2, 3, 4],\n",
    "              'col2' : [5, 6, 7, 8]})"
   ]
  },
  {
   "cell_type": "code",
   "execution_count": 4,
   "id": "608ea9fb",
   "metadata": {},
   "outputs": [
    {
     "data": {
      "text/plain": [
       "array([[ 5, 10,  6],\n",
       "       [15, 11,  2],\n",
       "       [ 8, 19, 14],\n",
       "       [ 9, 14, 17],\n",
       "       [ 9,  4,  8]])"
      ]
     },
     "execution_count": 4,
     "metadata": {},
     "output_type": "execute_result"
    }
   ],
   "source": [
    "n_rows = 5\n",
    "n_cols = 3\n",
    "\n",
    "arr = np.random.randint(1, 20, size = (n_rows, n_cols))\n",
    "arr\n"
   ]
  },
  {
   "cell_type": "code",
   "execution_count": 5,
   "id": "bbe2f13d",
   "metadata": {},
   "outputs": [
    {
     "data": {
      "text/html": [
       "<div>\n",
       "<style scoped>\n",
       "    .dataframe tbody tr th:only-of-type {\n",
       "        vertical-align: middle;\n",
       "    }\n",
       "\n",
       "    .dataframe tbody tr th {\n",
       "        vertical-align: top;\n",
       "    }\n",
       "\n",
       "    .dataframe thead th {\n",
       "        text-align: right;\n",
       "    }\n",
       "</style>\n",
       "<table border=\"1\" class=\"dataframe\">\n",
       "  <thead>\n",
       "    <tr style=\"text-align: right;\">\n",
       "      <th></th>\n",
       "      <th>A</th>\n",
       "      <th>B</th>\n",
       "      <th>C</th>\n",
       "    </tr>\n",
       "  </thead>\n",
       "  <tbody>\n",
       "    <tr>\n",
       "      <th>0</th>\n",
       "      <td>5</td>\n",
       "      <td>10</td>\n",
       "      <td>6</td>\n",
       "    </tr>\n",
       "    <tr>\n",
       "      <th>1</th>\n",
       "      <td>15</td>\n",
       "      <td>11</td>\n",
       "      <td>2</td>\n",
       "    </tr>\n",
       "    <tr>\n",
       "      <th>2</th>\n",
       "      <td>8</td>\n",
       "      <td>19</td>\n",
       "      <td>14</td>\n",
       "    </tr>\n",
       "    <tr>\n",
       "      <th>3</th>\n",
       "      <td>9</td>\n",
       "      <td>14</td>\n",
       "      <td>17</td>\n",
       "    </tr>\n",
       "    <tr>\n",
       "      <th>4</th>\n",
       "      <td>9</td>\n",
       "      <td>4</td>\n",
       "      <td>8</td>\n",
       "    </tr>\n",
       "  </tbody>\n",
       "</table>\n",
       "</div>"
      ],
      "text/plain": [
       "    A   B   C\n",
       "0   5  10   6\n",
       "1  15  11   2\n",
       "2   8  19  14\n",
       "3   9  14  17\n",
       "4   9   4   8"
      ]
     },
     "execution_count": 5,
     "metadata": {},
     "output_type": "execute_result"
    }
   ],
   "source": [
    "pd.DataFrame(arr, columns = tuple('ABC'))"
   ]
  },
  {
   "cell_type": "code",
   "execution_count": 6,
   "id": "c3962e5e",
   "metadata": {},
   "outputs": [
    {
     "name": "stderr",
     "output_type": "stream",
     "text": [
      "C:\\Users\\User\\anaconda3\\lib\\site-packages\\pandas\\util\\__init__.py:15: FutureWarning: pandas.util.testing is deprecated. Use the functions in the public API at pandas.testing instead.\n",
      "  import pandas.util.testing\n"
     ]
    },
    {
     "data": {
      "text/html": [
       "<div>\n",
       "<style scoped>\n",
       "    .dataframe tbody tr th:only-of-type {\n",
       "        vertical-align: middle;\n",
       "    }\n",
       "\n",
       "    .dataframe tbody tr th {\n",
       "        vertical-align: top;\n",
       "    }\n",
       "\n",
       "    .dataframe thead th {\n",
       "        text-align: right;\n",
       "    }\n",
       "</style>\n",
       "<table border=\"1\" class=\"dataframe\">\n",
       "  <thead>\n",
       "    <tr style=\"text-align: right;\">\n",
       "      <th></th>\n",
       "      <th>A</th>\n",
       "      <th>B</th>\n",
       "      <th>C</th>\n",
       "      <th>D</th>\n",
       "    </tr>\n",
       "  </thead>\n",
       "  <tbody>\n",
       "    <tr>\n",
       "      <th>GI2yIT23i7</th>\n",
       "      <td>0.007411</td>\n",
       "      <td>-0.890031</td>\n",
       "      <td>-0.153467</td>\n",
       "      <td>0.673979</td>\n",
       "    </tr>\n",
       "    <tr>\n",
       "      <th>zLv3g22nHv</th>\n",
       "      <td>2.163921</td>\n",
       "      <td>-0.655689</td>\n",
       "      <td>-0.468646</td>\n",
       "      <td>0.790798</td>\n",
       "    </tr>\n",
       "    <tr>\n",
       "      <th>ZkDJWOLLZt</th>\n",
       "      <td>-2.615288</td>\n",
       "      <td>1.626209</td>\n",
       "      <td>-0.581930</td>\n",
       "      <td>0.343934</td>\n",
       "    </tr>\n",
       "    <tr>\n",
       "      <th>FvgNHSGn9m</th>\n",
       "      <td>0.391735</td>\n",
       "      <td>-0.274365</td>\n",
       "      <td>-0.479367</td>\n",
       "      <td>1.638828</td>\n",
       "    </tr>\n",
       "    <tr>\n",
       "      <th>1GGWQiJY7G</th>\n",
       "      <td>0.145420</td>\n",
       "      <td>-0.777799</td>\n",
       "      <td>-1.858229</td>\n",
       "      <td>-1.339565</td>\n",
       "    </tr>\n",
       "  </tbody>\n",
       "</table>\n",
       "</div>"
      ],
      "text/plain": [
       "                   A         B         C         D\n",
       "GI2yIT23i7  0.007411 -0.890031 -0.153467  0.673979\n",
       "zLv3g22nHv  2.163921 -0.655689 -0.468646  0.790798\n",
       "ZkDJWOLLZt -2.615288  1.626209 -0.581930  0.343934\n",
       "FvgNHSGn9m  0.391735 -0.274365 -0.479367  1.638828\n",
       "1GGWQiJY7G  0.145420 -0.777799 -1.858229 -1.339565"
      ]
     },
     "execution_count": 6,
     "metadata": {},
     "output_type": "execute_result"
    }
   ],
   "source": [
    "pd.util.testing.makeDataFrame().head()"
   ]
  },
  {
   "cell_type": "code",
   "execution_count": 7,
   "id": "beaec142",
   "metadata": {},
   "outputs": [
    {
     "data": {
      "text/html": [
       "<div>\n",
       "<style scoped>\n",
       "    .dataframe tbody tr th:only-of-type {\n",
       "        vertical-align: middle;\n",
       "    }\n",
       "\n",
       "    .dataframe tbody tr th {\n",
       "        vertical-align: top;\n",
       "    }\n",
       "\n",
       "    .dataframe thead th {\n",
       "        text-align: right;\n",
       "    }\n",
       "</style>\n",
       "<table border=\"1\" class=\"dataframe\">\n",
       "  <thead>\n",
       "    <tr style=\"text-align: right;\">\n",
       "      <th></th>\n",
       "      <th>A</th>\n",
       "      <th>B</th>\n",
       "      <th>C</th>\n",
       "      <th>D</th>\n",
       "    </tr>\n",
       "  </thead>\n",
       "  <tbody>\n",
       "    <tr>\n",
       "      <th>0</th>\n",
       "      <td>0.0</td>\n",
       "      <td>0.0</td>\n",
       "      <td>foo1</td>\n",
       "      <td>2009-01-01</td>\n",
       "    </tr>\n",
       "    <tr>\n",
       "      <th>1</th>\n",
       "      <td>1.0</td>\n",
       "      <td>1.0</td>\n",
       "      <td>foo2</td>\n",
       "      <td>2009-01-02</td>\n",
       "    </tr>\n",
       "    <tr>\n",
       "      <th>2</th>\n",
       "      <td>2.0</td>\n",
       "      <td>0.0</td>\n",
       "      <td>foo3</td>\n",
       "      <td>2009-01-05</td>\n",
       "    </tr>\n",
       "    <tr>\n",
       "      <th>3</th>\n",
       "      <td>3.0</td>\n",
       "      <td>1.0</td>\n",
       "      <td>foo4</td>\n",
       "      <td>2009-01-06</td>\n",
       "    </tr>\n",
       "    <tr>\n",
       "      <th>4</th>\n",
       "      <td>4.0</td>\n",
       "      <td>0.0</td>\n",
       "      <td>foo5</td>\n",
       "      <td>2009-01-07</td>\n",
       "    </tr>\n",
       "  </tbody>\n",
       "</table>\n",
       "</div>"
      ],
      "text/plain": [
       "     A    B     C          D\n",
       "0  0.0  0.0  foo1 2009-01-01\n",
       "1  1.0  1.0  foo2 2009-01-02\n",
       "2  2.0  0.0  foo3 2009-01-05\n",
       "3  3.0  1.0  foo4 2009-01-06\n",
       "4  4.0  0.0  foo5 2009-01-07"
      ]
     },
     "execution_count": 7,
     "metadata": {},
     "output_type": "execute_result"
    }
   ],
   "source": [
    "pd.util.testing.makeMixedDataFrame().head()"
   ]
  },
  {
   "cell_type": "code",
   "execution_count": 8,
   "id": "c5fdf3a8",
   "metadata": {},
   "outputs": [
    {
     "data": {
      "text/html": [
       "<div>\n",
       "<style scoped>\n",
       "    .dataframe tbody tr th:only-of-type {\n",
       "        vertical-align: middle;\n",
       "    }\n",
       "\n",
       "    .dataframe tbody tr th {\n",
       "        vertical-align: top;\n",
       "    }\n",
       "\n",
       "    .dataframe thead th {\n",
       "        text-align: right;\n",
       "    }\n",
       "</style>\n",
       "<table border=\"1\" class=\"dataframe\">\n",
       "  <thead>\n",
       "    <tr style=\"text-align: right;\">\n",
       "      <th></th>\n",
       "      <th>A</th>\n",
       "      <th>B</th>\n",
       "      <th>C</th>\n",
       "      <th>D</th>\n",
       "    </tr>\n",
       "  </thead>\n",
       "  <tbody>\n",
       "    <tr>\n",
       "      <th>2000-01-03</th>\n",
       "      <td>0.006188</td>\n",
       "      <td>1.322421</td>\n",
       "      <td>0.305940</td>\n",
       "      <td>-0.571871</td>\n",
       "    </tr>\n",
       "    <tr>\n",
       "      <th>2000-01-04</th>\n",
       "      <td>0.543465</td>\n",
       "      <td>-0.789048</td>\n",
       "      <td>1.209131</td>\n",
       "      <td>1.960126</td>\n",
       "    </tr>\n",
       "    <tr>\n",
       "      <th>2000-01-05</th>\n",
       "      <td>1.161839</td>\n",
       "      <td>1.475940</td>\n",
       "      <td>-0.128859</td>\n",
       "      <td>-1.161873</td>\n",
       "    </tr>\n",
       "    <tr>\n",
       "      <th>2000-01-06</th>\n",
       "      <td>-0.158061</td>\n",
       "      <td>-0.950064</td>\n",
       "      <td>-1.211138</td>\n",
       "      <td>1.556705</td>\n",
       "    </tr>\n",
       "    <tr>\n",
       "      <th>2000-01-07</th>\n",
       "      <td>-1.947167</td>\n",
       "      <td>-0.002739</td>\n",
       "      <td>-0.469518</td>\n",
       "      <td>0.275551</td>\n",
       "    </tr>\n",
       "  </tbody>\n",
       "</table>\n",
       "</div>"
      ],
      "text/plain": [
       "                   A         B         C         D\n",
       "2000-01-03  0.006188  1.322421  0.305940 -0.571871\n",
       "2000-01-04  0.543465 -0.789048  1.209131  1.960126\n",
       "2000-01-05  1.161839  1.475940 -0.128859 -1.161873\n",
       "2000-01-06 -0.158061 -0.950064 -1.211138  1.556705\n",
       "2000-01-07 -1.947167 -0.002739 -0.469518  0.275551"
      ]
     },
     "execution_count": 8,
     "metadata": {},
     "output_type": "execute_result"
    }
   ],
   "source": [
    "pd.util.testing.makeTimeDataFrame().head()"
   ]
  },
  {
   "cell_type": "code",
   "execution_count": 10,
   "id": "554a25ff",
   "metadata": {},
   "outputs": [
    {
     "data": {
      "text/html": [
       "<div>\n",
       "<style scoped>\n",
       "    .dataframe tbody tr th:only-of-type {\n",
       "        vertical-align: middle;\n",
       "    }\n",
       "\n",
       "    .dataframe tbody tr th {\n",
       "        vertical-align: top;\n",
       "    }\n",
       "\n",
       "    .dataframe thead th {\n",
       "        text-align: right;\n",
       "    }\n",
       "</style>\n",
       "<table border=\"1\" class=\"dataframe\">\n",
       "  <thead>\n",
       "    <tr style=\"text-align: right;\">\n",
       "      <th></th>\n",
       "      <th>A</th>\n",
       "      <th>B</th>\n",
       "      <th>C</th>\n",
       "      <th>D</th>\n",
       "    </tr>\n",
       "  </thead>\n",
       "  <tbody>\n",
       "    <tr>\n",
       "      <th>cOfnOVEqJ6</th>\n",
       "      <td>NaN</td>\n",
       "      <td>0.501569</td>\n",
       "      <td>-0.151403</td>\n",
       "      <td>0.276545</td>\n",
       "    </tr>\n",
       "    <tr>\n",
       "      <th>hQCuYJXqNs</th>\n",
       "      <td>0.405154</td>\n",
       "      <td>-0.692114</td>\n",
       "      <td>0.360400</td>\n",
       "      <td>1.238159</td>\n",
       "    </tr>\n",
       "    <tr>\n",
       "      <th>ksYJ6JOzbV</th>\n",
       "      <td>1.498196</td>\n",
       "      <td>NaN</td>\n",
       "      <td>-0.544375</td>\n",
       "      <td>-1.324889</td>\n",
       "    </tr>\n",
       "    <tr>\n",
       "      <th>tpC7HSlR7g</th>\n",
       "      <td>0.340136</td>\n",
       "      <td>-1.555425</td>\n",
       "      <td>-0.868356</td>\n",
       "      <td>1.197031</td>\n",
       "    </tr>\n",
       "    <tr>\n",
       "      <th>f4d0ynOjGe</th>\n",
       "      <td>0.566452</td>\n",
       "      <td>0.779721</td>\n",
       "      <td>0.073290</td>\n",
       "      <td>-0.750981</td>\n",
       "    </tr>\n",
       "  </tbody>\n",
       "</table>\n",
       "</div>"
      ],
      "text/plain": [
       "                   A         B         C         D\n",
       "cOfnOVEqJ6       NaN  0.501569 -0.151403  0.276545\n",
       "hQCuYJXqNs  0.405154 -0.692114  0.360400  1.238159\n",
       "ksYJ6JOzbV  1.498196       NaN -0.544375 -1.324889\n",
       "tpC7HSlR7g  0.340136 -1.555425 -0.868356  1.197031\n",
       "f4d0ynOjGe  0.566452  0.779721  0.073290 -0.750981"
      ]
     },
     "execution_count": 10,
     "metadata": {},
     "output_type": "execute_result"
    }
   ],
   "source": [
    "pd.util.testing.makeMissingDataframe().head()"
   ]
  },
  {
   "cell_type": "code",
   "execution_count": null,
   "id": "aedb4655",
   "metadata": {},
   "outputs": [],
   "source": []
  }
 ],
 "metadata": {
  "kernelspec": {
   "display_name": "Python 3 (ipykernel)",
   "language": "python",
   "name": "python3"
  },
  "language_info": {
   "codemirror_mode": {
    "name": "ipython",
    "version": 3
   },
   "file_extension": ".py",
   "mimetype": "text/x-python",
   "name": "python",
   "nbconvert_exporter": "python",
   "pygments_lexer": "ipython3",
   "version": "3.9.7"
  }
 },
 "nbformat": 4,
 "nbformat_minor": 5
}
